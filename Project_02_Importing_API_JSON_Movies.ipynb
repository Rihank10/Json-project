{
 "cells": [
  {
   "cell_type": "markdown",
   "metadata": {},
   "source": [
    "# Project 2: Data Import - Working with Web APIs and JSON (Movies Dataset)"
   ]
  },
  {
   "cell_type": "markdown",
   "metadata": {},
   "source": [
    "## Importing Data from JSON files "
   ]
  },
  {
   "cell_type": "code",
   "execution_count": 11,
   "metadata": {},
   "outputs": [],
   "source": [
    "import pandas as pd\n",
    "import json"
   ]
  },
  {
   "cell_type": "code",
   "execution_count": 13,
   "metadata": {},
   "outputs": [],
   "source": [
    "with open(\"blockbusters.json\") as f:\n",
    "    data = json.load(f)"
   ]
  },
  {
   "cell_type": "code",
   "execution_count": 14,
   "metadata": {
    "scrolled": false
   },
   "outputs": [
    {
     "data": {
      "text/plain": [
       "[{'title': 'Avengers: Endgame',\n",
       "  'id': 299534,\n",
       "  'revenue': 2797800564,\n",
       "  'genres': [{'id': 12, 'name': 'Adventure'},\n",
       "   {'id': 878, 'name': 'Science Fiction'},\n",
       "   {'id': 28, 'name': 'Action'}],\n",
       "  'belongs_to_collection': {'id': 86311,\n",
       "   'name': 'The Avengers Collection',\n",
       "   'poster_path': '/yFSIUVTCvgYrpalUktulvk3Gi5Y.jpg',\n",
       "   'backdrop_path': '/zuW6fOiusv4X9nnW3paHGfXcSll.jpg'},\n",
       "  'runtime': 181},\n",
       " {'title': 'Avatar',\n",
       "  'id': 19995,\n",
       "  'revenue': 2787965087,\n",
       "  'genres': [{'id': 28, 'name': 'Action'},\n",
       "   {'id': 12, 'name': 'Adventure'},\n",
       "   {'id': 14, 'name': 'Fantasy'},\n",
       "   {'id': 878, 'name': 'Science Fiction'}],\n",
       "  'belongs_to_collection': {'id': 87096,\n",
       "   'name': 'Avatar Collection',\n",
       "   'poster_path': '/nslJVsO58Etqkk17oXMuVK4gNOF.jpg',\n",
       "   'backdrop_path': '/8nCr9W7sKus2q9PLbYsnT7iCkuT.jpg'},\n",
       "  'runtime': 162},\n",
       " {'title': 'Star Wars: The Force Awakens',\n",
       "  'id': 140607,\n",
       "  'revenue': 2068223624,\n",
       "  'genres': [{'id': 28, 'name': 'Action'},\n",
       "   {'id': 12, 'name': 'Adventure'},\n",
       "   {'id': 878, 'name': 'Science Fiction'},\n",
       "   {'id': 14, 'name': 'Fantasy'}],\n",
       "  'belongs_to_collection': {'id': 10,\n",
       "   'name': 'Star Wars Collection',\n",
       "   'poster_path': '/iTQHKziZy9pAAY4hHEDCGPaOvFC.jpg',\n",
       "   'backdrop_path': '/d8duYyyC9J5T825Hg7grmaabfxQ.jpg'},\n",
       "  'runtime': 136},\n",
       " {'title': 'Avengers: Infinity War',\n",
       "  'id': 299536,\n",
       "  'revenue': 2046239637,\n",
       "  'genres': [{'id': 12, 'name': 'Adventure'},\n",
       "   {'id': 28, 'name': 'Action'},\n",
       "   {'id': 878, 'name': 'Science Fiction'}],\n",
       "  'belongs_to_collection': {'id': 86311,\n",
       "   'name': 'The Avengers Collection',\n",
       "   'poster_path': '/yFSIUVTCvgYrpalUktulvk3Gi5Y.jpg',\n",
       "   'backdrop_path': '/zuW6fOiusv4X9nnW3paHGfXcSll.jpg'},\n",
       "  'runtime': 149},\n",
       " {'title': 'Titanic',\n",
       "  'id': 597,\n",
       "  'revenue': 1845034188,\n",
       "  'genres': [{'id': 18, 'name': 'Drama'},\n",
       "   {'id': 10749, 'name': 'Romance'},\n",
       "   {'id': 53, 'name': 'Thriller'}],\n",
       "  'belongs_to_collection': None,\n",
       "  'runtime': 194},\n",
       " {'title': 'Jurassic World',\n",
       "  'id': 135397,\n",
       "  'revenue': 1671713208,\n",
       "  'genres': [{'id': 28, 'name': 'Action'},\n",
       "   {'id': 12, 'name': 'Adventure'},\n",
       "   {'id': 878, 'name': 'Science Fiction'},\n",
       "   {'id': 53, 'name': 'Thriller'}],\n",
       "  'belongs_to_collection': {'id': 328,\n",
       "   'name': 'Jurassic Park Collection',\n",
       "   'poster_path': '/qIm2nHXLpBBdMxi8dvfrnDkBUDh.jpg',\n",
       "   'backdrop_path': '/pJjIH9QN0OkHFV9eue6XfRVnPkr.jpg'},\n",
       "  'runtime': 124},\n",
       " {'title': 'The Lion King',\n",
       "  'id': 420818,\n",
       "  'revenue': 1656943394,\n",
       "  'genres': [{'id': 12, 'name': 'Adventure'}, {'id': 10751, 'name': 'Family'}],\n",
       "  'belongs_to_collection': None,\n",
       "  'runtime': 118},\n",
       " {'title': 'The Avengers',\n",
       "  'id': 24428,\n",
       "  'revenue': 1519557910,\n",
       "  'genres': [{'id': 878, 'name': 'Science Fiction'},\n",
       "   {'id': 28, 'name': 'Action'},\n",
       "   {'id': 12, 'name': 'Adventure'}],\n",
       "  'belongs_to_collection': {'id': 86311,\n",
       "   'name': 'The Avengers Collection',\n",
       "   'poster_path': '/yFSIUVTCvgYrpalUktulvk3Gi5Y.jpg',\n",
       "   'backdrop_path': '/zuW6fOiusv4X9nnW3paHGfXcSll.jpg'},\n",
       "  'runtime': 143},\n",
       " {'title': 'Furious 7',\n",
       "  'id': 168259,\n",
       "  'revenue': 1506249360,\n",
       "  'genres': [{'id': 28, 'name': 'Action'}, {'id': 53, 'name': 'Thriller'}],\n",
       "  'belongs_to_collection': {'id': 9485,\n",
       "   'name': 'The Fast and the Furious Collection',\n",
       "   'poster_path': '/uv63yAGg1zETAs1XQsOQpava87l.jpg',\n",
       "   'backdrop_path': '/z5A5W3WYJc3UVEWljSGwdjDgQ0j.jpg'},\n",
       "  'runtime': 137},\n",
       " {'title': 'Avengers: Age of Ultron',\n",
       "  'id': 99861,\n",
       "  'revenue': 1405403694,\n",
       "  'genres': [{'id': 28, 'name': 'Action'},\n",
       "   {'id': 12, 'name': 'Adventure'},\n",
       "   {'id': 878, 'name': 'Science Fiction'}],\n",
       "  'belongs_to_collection': {'id': 86311,\n",
       "   'name': 'The Avengers Collection',\n",
       "   'poster_path': '/yFSIUVTCvgYrpalUktulvk3Gi5Y.jpg',\n",
       "   'backdrop_path': '/zuW6fOiusv4X9nnW3paHGfXcSll.jpg'},\n",
       "  'runtime': 141},\n",
       " {'title': 'Black Panther',\n",
       "  'id': 284054,\n",
       "  'revenue': 1346739107,\n",
       "  'genres': [{'id': 28, 'name': 'Action'},\n",
       "   {'id': 12, 'name': 'Adventure'},\n",
       "   {'id': 14, 'name': 'Fantasy'},\n",
       "   {'id': 878, 'name': 'Science Fiction'}],\n",
       "  'belongs_to_collection': {'id': 529892,\n",
       "   'name': 'Black Panther Collection',\n",
       "   'poster_path': '/9ZSPIsxI3TZDgfg0Jzk0RZl4INg.jpg',\n",
       "   'backdrop_path': '/1Jj7Frjjbewb6Q6dl6YXhL3kuvL.jpg'},\n",
       "  'runtime': 134},\n",
       " {'title': 'Harry Potter and the Deathly Hallows: Part 2',\n",
       "  'id': 12445,\n",
       "  'revenue': 1341511219,\n",
       "  'genres': [{'id': 14, 'name': 'Fantasy'}, {'id': 12, 'name': 'Adventure'}],\n",
       "  'belongs_to_collection': {'id': 1241,\n",
       "   'name': 'Harry Potter Collection',\n",
       "   'poster_path': '/eVPs2Y0LyvTLZn6AP5Z6O2rtiGB.jpg',\n",
       "   'backdrop_path': '/wfnMt6LGqYHcNyOfsuusw5lX3bL.jpg'},\n",
       "  'runtime': 130},\n",
       " {'title': 'Star Wars: The Last Jedi',\n",
       "  'id': 181808,\n",
       "  'revenue': 1332539889,\n",
       "  'genres': [{'id': 14, 'name': 'Fantasy'},\n",
       "   {'id': 12, 'name': 'Adventure'},\n",
       "   {'id': 878, 'name': 'Science Fiction'},\n",
       "   {'id': 28, 'name': 'Action'}],\n",
       "  'belongs_to_collection': {'id': 10,\n",
       "   'name': 'Star Wars Collection',\n",
       "   'poster_path': '/iTQHKziZy9pAAY4hHEDCGPaOvFC.jpg',\n",
       "   'backdrop_path': '/d8duYyyC9J5T825Hg7grmaabfxQ.jpg'},\n",
       "  'runtime': 152},\n",
       " {'title': 'Frozen II',\n",
       "  'id': 330457,\n",
       "  'revenue': 1330764959,\n",
       "  'genres': [{'id': 16, 'name': 'Animation'},\n",
       "   {'id': 10751, 'name': 'Family'},\n",
       "   {'id': 12, 'name': 'Adventure'}],\n",
       "  'belongs_to_collection': {'id': 386382,\n",
       "   'name': 'Frozen Collection',\n",
       "   'poster_path': '/rpoXnE9UzCbjmINhxIi8bZF557B.jpg',\n",
       "   'backdrop_path': '/vZiqhw6oFoMlHSneIdVip9rRou2.jpg'},\n",
       "  'runtime': 104},\n",
       " {'title': 'Jurassic World: Fallen Kingdom',\n",
       "  'id': 351286,\n",
       "  'revenue': 1303459585,\n",
       "  'genres': [{'id': 28, 'name': 'Action'},\n",
       "   {'id': 12, 'name': 'Adventure'},\n",
       "   {'id': 878, 'name': 'Science Fiction'}],\n",
       "  'belongs_to_collection': {'id': 328,\n",
       "   'name': 'Jurassic Park Collection',\n",
       "   'poster_path': '/qIm2nHXLpBBdMxi8dvfrnDkBUDh.jpg',\n",
       "   'backdrop_path': '/pJjIH9QN0OkHFV9eue6XfRVnPkr.jpg'},\n",
       "  'runtime': 129},\n",
       " {'title': 'Frozen',\n",
       "  'id': 109445,\n",
       "  'revenue': 1274219009,\n",
       "  'genres': [{'id': 16, 'name': 'Animation'},\n",
       "   {'id': 12, 'name': 'Adventure'},\n",
       "   {'id': 10751, 'name': 'Family'}],\n",
       "  'belongs_to_collection': {'id': 386382,\n",
       "   'name': 'Frozen Collection',\n",
       "   'poster_path': '/rpoXnE9UzCbjmINhxIi8bZF557B.jpg',\n",
       "   'backdrop_path': '/vZiqhw6oFoMlHSneIdVip9rRou2.jpg'},\n",
       "  'runtime': 102},\n",
       " {'title': 'Beauty and the Beast',\n",
       "  'id': 321612,\n",
       "  'revenue': 1263521126,\n",
       "  'genres': [{'id': 10751, 'name': 'Family'},\n",
       "   {'id': 14, 'name': 'Fantasy'},\n",
       "   {'id': 10749, 'name': 'Romance'}],\n",
       "  'belongs_to_collection': None,\n",
       "  'runtime': 129},\n",
       " {'title': 'Incredibles 2',\n",
       "  'id': 260513,\n",
       "  'revenue': 1241891456,\n",
       "  'genres': [{'id': 28, 'name': 'Action'},\n",
       "   {'id': 12, 'name': 'Adventure'},\n",
       "   {'id': 16, 'name': 'Animation'},\n",
       "   {'id': 10751, 'name': 'Family'}],\n",
       "  'belongs_to_collection': {'id': 468222,\n",
       "   'name': 'The Incredibles Collection',\n",
       "   'poster_path': '/l7GqbzkJwowYRIXAtUz2iCPi64a.jpg',\n",
       "   'backdrop_path': '/9eDW2dVhnzPS2HvaRdK2OlAGaLq.jpg'},\n",
       "  'runtime': 118}]"
      ]
     },
     "execution_count": 14,
     "metadata": {},
     "output_type": "execute_result"
    }
   ],
   "source": [
    "data"
   ]
  },
  {
   "cell_type": "code",
   "execution_count": 15,
   "metadata": {},
   "outputs": [
    {
     "data": {
      "text/plain": [
       "list"
      ]
     },
     "execution_count": 15,
     "metadata": {},
     "output_type": "execute_result"
    }
   ],
   "source": [
    "type(data)"
   ]
  },
  {
   "cell_type": "code",
   "execution_count": 16,
   "metadata": {},
   "outputs": [
    {
     "data": {
      "text/plain": [
       "18"
      ]
     },
     "execution_count": 16,
     "metadata": {},
     "output_type": "execute_result"
    }
   ],
   "source": [
    "len(data)"
   ]
  },
  {
   "cell_type": "code",
   "execution_count": 17,
   "metadata": {},
   "outputs": [
    {
     "data": {
      "text/plain": [
       "{'title': 'Avengers: Endgame',\n",
       " 'id': 299534,\n",
       " 'revenue': 2797800564,\n",
       " 'genres': [{'id': 12, 'name': 'Adventure'},\n",
       "  {'id': 878, 'name': 'Science Fiction'},\n",
       "  {'id': 28, 'name': 'Action'}],\n",
       " 'belongs_to_collection': {'id': 86311,\n",
       "  'name': 'The Avengers Collection',\n",
       "  'poster_path': '/yFSIUVTCvgYrpalUktulvk3Gi5Y.jpg',\n",
       "  'backdrop_path': '/zuW6fOiusv4X9nnW3paHGfXcSll.jpg'},\n",
       " 'runtime': 181}"
      ]
     },
     "execution_count": 17,
     "metadata": {},
     "output_type": "execute_result"
    }
   ],
   "source": [
    "data[0]"
   ]
  },
  {
   "cell_type": "code",
   "execution_count": 19,
   "metadata": {},
   "outputs": [
    {
     "data": {
      "text/html": [
       "<div>\n",
       "<style scoped>\n",
       "    .dataframe tbody tr th:only-of-type {\n",
       "        vertical-align: middle;\n",
       "    }\n",
       "\n",
       "    .dataframe tbody tr th {\n",
       "        vertical-align: top;\n",
       "    }\n",
       "\n",
       "    .dataframe thead th {\n",
       "        text-align: right;\n",
       "    }\n",
       "</style>\n",
       "<table border=\"1\" class=\"dataframe\">\n",
       "  <thead>\n",
       "    <tr style=\"text-align: right;\">\n",
       "      <th></th>\n",
       "      <th>title</th>\n",
       "      <th>id</th>\n",
       "      <th>revenue</th>\n",
       "      <th>genres</th>\n",
       "      <th>belongs_to_collection</th>\n",
       "      <th>runtime</th>\n",
       "    </tr>\n",
       "  </thead>\n",
       "  <tbody>\n",
       "    <tr>\n",
       "      <th>0</th>\n",
       "      <td>Avengers: Endgame</td>\n",
       "      <td>299534</td>\n",
       "      <td>2797800564</td>\n",
       "      <td>[{'id': 12, 'name': 'Adventure'}, {'id': 878, ...</td>\n",
       "      <td>{'id': 86311, 'name': 'The Avengers Collection...</td>\n",
       "      <td>181</td>\n",
       "    </tr>\n",
       "    <tr>\n",
       "      <th>1</th>\n",
       "      <td>Avatar</td>\n",
       "      <td>19995</td>\n",
       "      <td>2787965087</td>\n",
       "      <td>[{'id': 28, 'name': 'Action'}, {'id': 12, 'nam...</td>\n",
       "      <td>{'id': 87096, 'name': 'Avatar Collection', 'po...</td>\n",
       "      <td>162</td>\n",
       "    </tr>\n",
       "    <tr>\n",
       "      <th>2</th>\n",
       "      <td>Star Wars: The Force Awakens</td>\n",
       "      <td>140607</td>\n",
       "      <td>2068223624</td>\n",
       "      <td>[{'id': 28, 'name': 'Action'}, {'id': 12, 'nam...</td>\n",
       "      <td>{'id': 10, 'name': 'Star Wars Collection', 'po...</td>\n",
       "      <td>136</td>\n",
       "    </tr>\n",
       "    <tr>\n",
       "      <th>3</th>\n",
       "      <td>Avengers: Infinity War</td>\n",
       "      <td>299536</td>\n",
       "      <td>2046239637</td>\n",
       "      <td>[{'id': 12, 'name': 'Adventure'}, {'id': 28, '...</td>\n",
       "      <td>{'id': 86311, 'name': 'The Avengers Collection...</td>\n",
       "      <td>149</td>\n",
       "    </tr>\n",
       "    <tr>\n",
       "      <th>4</th>\n",
       "      <td>Titanic</td>\n",
       "      <td>597</td>\n",
       "      <td>1845034188</td>\n",
       "      <td>[{'id': 18, 'name': 'Drama'}, {'id': 10749, 'n...</td>\n",
       "      <td>None</td>\n",
       "      <td>194</td>\n",
       "    </tr>\n",
       "    <tr>\n",
       "      <th>5</th>\n",
       "      <td>Jurassic World</td>\n",
       "      <td>135397</td>\n",
       "      <td>1671713208</td>\n",
       "      <td>[{'id': 28, 'name': 'Action'}, {'id': 12, 'nam...</td>\n",
       "      <td>{'id': 328, 'name': 'Jurassic Park Collection'...</td>\n",
       "      <td>124</td>\n",
       "    </tr>\n",
       "    <tr>\n",
       "      <th>6</th>\n",
       "      <td>The Lion King</td>\n",
       "      <td>420818</td>\n",
       "      <td>1656943394</td>\n",
       "      <td>[{'id': 12, 'name': 'Adventure'}, {'id': 10751...</td>\n",
       "      <td>None</td>\n",
       "      <td>118</td>\n",
       "    </tr>\n",
       "    <tr>\n",
       "      <th>7</th>\n",
       "      <td>The Avengers</td>\n",
       "      <td>24428</td>\n",
       "      <td>1519557910</td>\n",
       "      <td>[{'id': 878, 'name': 'Science Fiction'}, {'id'...</td>\n",
       "      <td>{'id': 86311, 'name': 'The Avengers Collection...</td>\n",
       "      <td>143</td>\n",
       "    </tr>\n",
       "    <tr>\n",
       "      <th>8</th>\n",
       "      <td>Furious 7</td>\n",
       "      <td>168259</td>\n",
       "      <td>1506249360</td>\n",
       "      <td>[{'id': 28, 'name': 'Action'}, {'id': 53, 'nam...</td>\n",
       "      <td>{'id': 9485, 'name': 'The Fast and the Furious...</td>\n",
       "      <td>137</td>\n",
       "    </tr>\n",
       "    <tr>\n",
       "      <th>9</th>\n",
       "      <td>Avengers: Age of Ultron</td>\n",
       "      <td>99861</td>\n",
       "      <td>1405403694</td>\n",
       "      <td>[{'id': 28, 'name': 'Action'}, {'id': 12, 'nam...</td>\n",
       "      <td>{'id': 86311, 'name': 'The Avengers Collection...</td>\n",
       "      <td>141</td>\n",
       "    </tr>\n",
       "    <tr>\n",
       "      <th>10</th>\n",
       "      <td>Black Panther</td>\n",
       "      <td>284054</td>\n",
       "      <td>1346739107</td>\n",
       "      <td>[{'id': 28, 'name': 'Action'}, {'id': 12, 'nam...</td>\n",
       "      <td>{'id': 529892, 'name': 'Black Panther Collecti...</td>\n",
       "      <td>134</td>\n",
       "    </tr>\n",
       "    <tr>\n",
       "      <th>11</th>\n",
       "      <td>Harry Potter and the Deathly Hallows: Part 2</td>\n",
       "      <td>12445</td>\n",
       "      <td>1341511219</td>\n",
       "      <td>[{'id': 14, 'name': 'Fantasy'}, {'id': 12, 'na...</td>\n",
       "      <td>{'id': 1241, 'name': 'Harry Potter Collection'...</td>\n",
       "      <td>130</td>\n",
       "    </tr>\n",
       "    <tr>\n",
       "      <th>12</th>\n",
       "      <td>Star Wars: The Last Jedi</td>\n",
       "      <td>181808</td>\n",
       "      <td>1332539889</td>\n",
       "      <td>[{'id': 14, 'name': 'Fantasy'}, {'id': 12, 'na...</td>\n",
       "      <td>{'id': 10, 'name': 'Star Wars Collection', 'po...</td>\n",
       "      <td>152</td>\n",
       "    </tr>\n",
       "    <tr>\n",
       "      <th>13</th>\n",
       "      <td>Frozen II</td>\n",
       "      <td>330457</td>\n",
       "      <td>1330764959</td>\n",
       "      <td>[{'id': 16, 'name': 'Animation'}, {'id': 10751...</td>\n",
       "      <td>{'id': 386382, 'name': 'Frozen Collection', 'p...</td>\n",
       "      <td>104</td>\n",
       "    </tr>\n",
       "    <tr>\n",
       "      <th>14</th>\n",
       "      <td>Jurassic World: Fallen Kingdom</td>\n",
       "      <td>351286</td>\n",
       "      <td>1303459585</td>\n",
       "      <td>[{'id': 28, 'name': 'Action'}, {'id': 12, 'nam...</td>\n",
       "      <td>{'id': 328, 'name': 'Jurassic Park Collection'...</td>\n",
       "      <td>129</td>\n",
       "    </tr>\n",
       "    <tr>\n",
       "      <th>15</th>\n",
       "      <td>Frozen</td>\n",
       "      <td>109445</td>\n",
       "      <td>1274219009</td>\n",
       "      <td>[{'id': 16, 'name': 'Animation'}, {'id': 12, '...</td>\n",
       "      <td>{'id': 386382, 'name': 'Frozen Collection', 'p...</td>\n",
       "      <td>102</td>\n",
       "    </tr>\n",
       "    <tr>\n",
       "      <th>16</th>\n",
       "      <td>Beauty and the Beast</td>\n",
       "      <td>321612</td>\n",
       "      <td>1263521126</td>\n",
       "      <td>[{'id': 10751, 'name': 'Family'}, {'id': 14, '...</td>\n",
       "      <td>None</td>\n",
       "      <td>129</td>\n",
       "    </tr>\n",
       "    <tr>\n",
       "      <th>17</th>\n",
       "      <td>Incredibles 2</td>\n",
       "      <td>260513</td>\n",
       "      <td>1241891456</td>\n",
       "      <td>[{'id': 28, 'name': 'Action'}, {'id': 12, 'nam...</td>\n",
       "      <td>{'id': 468222, 'name': 'The Incredibles Collec...</td>\n",
       "      <td>118</td>\n",
       "    </tr>\n",
       "  </tbody>\n",
       "</table>\n",
       "</div>"
      ],
      "text/plain": [
       "                                           title      id     revenue  \\\n",
       "0                              Avengers: Endgame  299534  2797800564   \n",
       "1                                         Avatar   19995  2787965087   \n",
       "2                   Star Wars: The Force Awakens  140607  2068223624   \n",
       "3                         Avengers: Infinity War  299536  2046239637   \n",
       "4                                        Titanic     597  1845034188   \n",
       "5                                 Jurassic World  135397  1671713208   \n",
       "6                                  The Lion King  420818  1656943394   \n",
       "7                                   The Avengers   24428  1519557910   \n",
       "8                                      Furious 7  168259  1506249360   \n",
       "9                        Avengers: Age of Ultron   99861  1405403694   \n",
       "10                                 Black Panther  284054  1346739107   \n",
       "11  Harry Potter and the Deathly Hallows: Part 2   12445  1341511219   \n",
       "12                      Star Wars: The Last Jedi  181808  1332539889   \n",
       "13                                     Frozen II  330457  1330764959   \n",
       "14                Jurassic World: Fallen Kingdom  351286  1303459585   \n",
       "15                                        Frozen  109445  1274219009   \n",
       "16                          Beauty and the Beast  321612  1263521126   \n",
       "17                                 Incredibles 2  260513  1241891456   \n",
       "\n",
       "                                               genres  \\\n",
       "0   [{'id': 12, 'name': 'Adventure'}, {'id': 878, ...   \n",
       "1   [{'id': 28, 'name': 'Action'}, {'id': 12, 'nam...   \n",
       "2   [{'id': 28, 'name': 'Action'}, {'id': 12, 'nam...   \n",
       "3   [{'id': 12, 'name': 'Adventure'}, {'id': 28, '...   \n",
       "4   [{'id': 18, 'name': 'Drama'}, {'id': 10749, 'n...   \n",
       "5   [{'id': 28, 'name': 'Action'}, {'id': 12, 'nam...   \n",
       "6   [{'id': 12, 'name': 'Adventure'}, {'id': 10751...   \n",
       "7   [{'id': 878, 'name': 'Science Fiction'}, {'id'...   \n",
       "8   [{'id': 28, 'name': 'Action'}, {'id': 53, 'nam...   \n",
       "9   [{'id': 28, 'name': 'Action'}, {'id': 12, 'nam...   \n",
       "10  [{'id': 28, 'name': 'Action'}, {'id': 12, 'nam...   \n",
       "11  [{'id': 14, 'name': 'Fantasy'}, {'id': 12, 'na...   \n",
       "12  [{'id': 14, 'name': 'Fantasy'}, {'id': 12, 'na...   \n",
       "13  [{'id': 16, 'name': 'Animation'}, {'id': 10751...   \n",
       "14  [{'id': 28, 'name': 'Action'}, {'id': 12, 'nam...   \n",
       "15  [{'id': 16, 'name': 'Animation'}, {'id': 12, '...   \n",
       "16  [{'id': 10751, 'name': 'Family'}, {'id': 14, '...   \n",
       "17  [{'id': 28, 'name': 'Action'}, {'id': 12, 'nam...   \n",
       "\n",
       "                                belongs_to_collection  runtime  \n",
       "0   {'id': 86311, 'name': 'The Avengers Collection...      181  \n",
       "1   {'id': 87096, 'name': 'Avatar Collection', 'po...      162  \n",
       "2   {'id': 10, 'name': 'Star Wars Collection', 'po...      136  \n",
       "3   {'id': 86311, 'name': 'The Avengers Collection...      149  \n",
       "4                                                None      194  \n",
       "5   {'id': 328, 'name': 'Jurassic Park Collection'...      124  \n",
       "6                                                None      118  \n",
       "7   {'id': 86311, 'name': 'The Avengers Collection...      143  \n",
       "8   {'id': 9485, 'name': 'The Fast and the Furious...      137  \n",
       "9   {'id': 86311, 'name': 'The Avengers Collection...      141  \n",
       "10  {'id': 529892, 'name': 'Black Panther Collecti...      134  \n",
       "11  {'id': 1241, 'name': 'Harry Potter Collection'...      130  \n",
       "12  {'id': 10, 'name': 'Star Wars Collection', 'po...      152  \n",
       "13  {'id': 386382, 'name': 'Frozen Collection', 'p...      104  \n",
       "14  {'id': 328, 'name': 'Jurassic Park Collection'...      129  \n",
       "15  {'id': 386382, 'name': 'Frozen Collection', 'p...      102  \n",
       "16                                               None      129  \n",
       "17  {'id': 468222, 'name': 'The Incredibles Collec...      118  "
      ]
     },
     "execution_count": 19,
     "metadata": {},
     "output_type": "execute_result"
    }
   ],
   "source": [
    "df = pd.DataFrame(data)\n",
    "df"
   ]
  },
  {
   "cell_type": "code",
   "execution_count": 21,
   "metadata": {},
   "outputs": [
    {
     "data": {
      "text/html": [
       "<div>\n",
       "<style scoped>\n",
       "    .dataframe tbody tr th:only-of-type {\n",
       "        vertical-align: middle;\n",
       "    }\n",
       "\n",
       "    .dataframe tbody tr th {\n",
       "        vertical-align: top;\n",
       "    }\n",
       "\n",
       "    .dataframe thead th {\n",
       "        text-align: right;\n",
       "    }\n",
       "</style>\n",
       "<table border=\"1\" class=\"dataframe\">\n",
       "  <thead>\n",
       "    <tr style=\"text-align: right;\">\n",
       "      <th></th>\n",
       "      <th>title</th>\n",
       "      <th>id</th>\n",
       "      <th>revenue</th>\n",
       "      <th>genres</th>\n",
       "      <th>belongs_to_collection</th>\n",
       "      <th>runtime</th>\n",
       "    </tr>\n",
       "  </thead>\n",
       "  <tbody>\n",
       "    <tr>\n",
       "      <th>0</th>\n",
       "      <td>Avengers: Endgame</td>\n",
       "      <td>299534</td>\n",
       "      <td>2797800564</td>\n",
       "      <td>[{'id': 12, 'name': 'Adventure'}, {'id': 878, ...</td>\n",
       "      <td>{'id': 86311, 'name': 'The Avengers Collection...</td>\n",
       "      <td>181</td>\n",
       "    </tr>\n",
       "    <tr>\n",
       "      <th>1</th>\n",
       "      <td>Avatar</td>\n",
       "      <td>19995</td>\n",
       "      <td>2787965087</td>\n",
       "      <td>[{'id': 28, 'name': 'Action'}, {'id': 12, 'nam...</td>\n",
       "      <td>{'id': 87096, 'name': 'Avatar Collection', 'po...</td>\n",
       "      <td>162</td>\n",
       "    </tr>\n",
       "    <tr>\n",
       "      <th>2</th>\n",
       "      <td>Star Wars: The Force Awakens</td>\n",
       "      <td>140607</td>\n",
       "      <td>2068223624</td>\n",
       "      <td>[{'id': 28, 'name': 'Action'}, {'id': 12, 'nam...</td>\n",
       "      <td>{'id': 10, 'name': 'Star Wars Collection', 'po...</td>\n",
       "      <td>136</td>\n",
       "    </tr>\n",
       "    <tr>\n",
       "      <th>3</th>\n",
       "      <td>Avengers: Infinity War</td>\n",
       "      <td>299536</td>\n",
       "      <td>2046239637</td>\n",
       "      <td>[{'id': 12, 'name': 'Adventure'}, {'id': 28, '...</td>\n",
       "      <td>{'id': 86311, 'name': 'The Avengers Collection...</td>\n",
       "      <td>149</td>\n",
       "    </tr>\n",
       "    <tr>\n",
       "      <th>4</th>\n",
       "      <td>Titanic</td>\n",
       "      <td>597</td>\n",
       "      <td>1845034188</td>\n",
       "      <td>[{'id': 18, 'name': 'Drama'}, {'id': 10749, 'n...</td>\n",
       "      <td>None</td>\n",
       "      <td>194</td>\n",
       "    </tr>\n",
       "    <tr>\n",
       "      <th>5</th>\n",
       "      <td>Jurassic World</td>\n",
       "      <td>135397</td>\n",
       "      <td>1671713208</td>\n",
       "      <td>[{'id': 28, 'name': 'Action'}, {'id': 12, 'nam...</td>\n",
       "      <td>{'id': 328, 'name': 'Jurassic Park Collection'...</td>\n",
       "      <td>124</td>\n",
       "    </tr>\n",
       "    <tr>\n",
       "      <th>6</th>\n",
       "      <td>The Lion King</td>\n",
       "      <td>420818</td>\n",
       "      <td>1656943394</td>\n",
       "      <td>[{'id': 12, 'name': 'Adventure'}, {'id': 10751...</td>\n",
       "      <td>None</td>\n",
       "      <td>118</td>\n",
       "    </tr>\n",
       "    <tr>\n",
       "      <th>7</th>\n",
       "      <td>The Avengers</td>\n",
       "      <td>24428</td>\n",
       "      <td>1519557910</td>\n",
       "      <td>[{'id': 878, 'name': 'Science Fiction'}, {'id'...</td>\n",
       "      <td>{'id': 86311, 'name': 'The Avengers Collection...</td>\n",
       "      <td>143</td>\n",
       "    </tr>\n",
       "    <tr>\n",
       "      <th>8</th>\n",
       "      <td>Furious 7</td>\n",
       "      <td>168259</td>\n",
       "      <td>1506249360</td>\n",
       "      <td>[{'id': 28, 'name': 'Action'}, {'id': 53, 'nam...</td>\n",
       "      <td>{'id': 9485, 'name': 'The Fast and the Furious...</td>\n",
       "      <td>137</td>\n",
       "    </tr>\n",
       "    <tr>\n",
       "      <th>9</th>\n",
       "      <td>Avengers: Age of Ultron</td>\n",
       "      <td>99861</td>\n",
       "      <td>1405403694</td>\n",
       "      <td>[{'id': 28, 'name': 'Action'}, {'id': 12, 'nam...</td>\n",
       "      <td>{'id': 86311, 'name': 'The Avengers Collection...</td>\n",
       "      <td>141</td>\n",
       "    </tr>\n",
       "    <tr>\n",
       "      <th>10</th>\n",
       "      <td>Black Panther</td>\n",
       "      <td>284054</td>\n",
       "      <td>1346739107</td>\n",
       "      <td>[{'id': 28, 'name': 'Action'}, {'id': 12, 'nam...</td>\n",
       "      <td>{'id': 529892, 'name': 'Black Panther Collecti...</td>\n",
       "      <td>134</td>\n",
       "    </tr>\n",
       "    <tr>\n",
       "      <th>11</th>\n",
       "      <td>Harry Potter and the Deathly Hallows: Part 2</td>\n",
       "      <td>12445</td>\n",
       "      <td>1341511219</td>\n",
       "      <td>[{'id': 14, 'name': 'Fantasy'}, {'id': 12, 'na...</td>\n",
       "      <td>{'id': 1241, 'name': 'Harry Potter Collection'...</td>\n",
       "      <td>130</td>\n",
       "    </tr>\n",
       "    <tr>\n",
       "      <th>12</th>\n",
       "      <td>Star Wars: The Last Jedi</td>\n",
       "      <td>181808</td>\n",
       "      <td>1332539889</td>\n",
       "      <td>[{'id': 14, 'name': 'Fantasy'}, {'id': 12, 'na...</td>\n",
       "      <td>{'id': 10, 'name': 'Star Wars Collection', 'po...</td>\n",
       "      <td>152</td>\n",
       "    </tr>\n",
       "    <tr>\n",
       "      <th>13</th>\n",
       "      <td>Frozen II</td>\n",
       "      <td>330457</td>\n",
       "      <td>1330764959</td>\n",
       "      <td>[{'id': 16, 'name': 'Animation'}, {'id': 10751...</td>\n",
       "      <td>{'id': 386382, 'name': 'Frozen Collection', 'p...</td>\n",
       "      <td>104</td>\n",
       "    </tr>\n",
       "    <tr>\n",
       "      <th>14</th>\n",
       "      <td>Jurassic World: Fallen Kingdom</td>\n",
       "      <td>351286</td>\n",
       "      <td>1303459585</td>\n",
       "      <td>[{'id': 28, 'name': 'Action'}, {'id': 12, 'nam...</td>\n",
       "      <td>{'id': 328, 'name': 'Jurassic Park Collection'...</td>\n",
       "      <td>129</td>\n",
       "    </tr>\n",
       "    <tr>\n",
       "      <th>15</th>\n",
       "      <td>Frozen</td>\n",
       "      <td>109445</td>\n",
       "      <td>1274219009</td>\n",
       "      <td>[{'id': 16, 'name': 'Animation'}, {'id': 12, '...</td>\n",
       "      <td>{'id': 386382, 'name': 'Frozen Collection', 'p...</td>\n",
       "      <td>102</td>\n",
       "    </tr>\n",
       "    <tr>\n",
       "      <th>16</th>\n",
       "      <td>Beauty and the Beast</td>\n",
       "      <td>321612</td>\n",
       "      <td>1263521126</td>\n",
       "      <td>[{'id': 10751, 'name': 'Family'}, {'id': 14, '...</td>\n",
       "      <td>None</td>\n",
       "      <td>129</td>\n",
       "    </tr>\n",
       "    <tr>\n",
       "      <th>17</th>\n",
       "      <td>Incredibles 2</td>\n",
       "      <td>260513</td>\n",
       "      <td>1241891456</td>\n",
       "      <td>[{'id': 28, 'name': 'Action'}, {'id': 12, 'nam...</td>\n",
       "      <td>{'id': 468222, 'name': 'The Incredibles Collec...</td>\n",
       "      <td>118</td>\n",
       "    </tr>\n",
       "  </tbody>\n",
       "</table>\n",
       "</div>"
      ],
      "text/plain": [
       "                                           title      id     revenue  \\\n",
       "0                              Avengers: Endgame  299534  2797800564   \n",
       "1                                         Avatar   19995  2787965087   \n",
       "2                   Star Wars: The Force Awakens  140607  2068223624   \n",
       "3                         Avengers: Infinity War  299536  2046239637   \n",
       "4                                        Titanic     597  1845034188   \n",
       "5                                 Jurassic World  135397  1671713208   \n",
       "6                                  The Lion King  420818  1656943394   \n",
       "7                                   The Avengers   24428  1519557910   \n",
       "8                                      Furious 7  168259  1506249360   \n",
       "9                        Avengers: Age of Ultron   99861  1405403694   \n",
       "10                                 Black Panther  284054  1346739107   \n",
       "11  Harry Potter and the Deathly Hallows: Part 2   12445  1341511219   \n",
       "12                      Star Wars: The Last Jedi  181808  1332539889   \n",
       "13                                     Frozen II  330457  1330764959   \n",
       "14                Jurassic World: Fallen Kingdom  351286  1303459585   \n",
       "15                                        Frozen  109445  1274219009   \n",
       "16                          Beauty and the Beast  321612  1263521126   \n",
       "17                                 Incredibles 2  260513  1241891456   \n",
       "\n",
       "                                               genres  \\\n",
       "0   [{'id': 12, 'name': 'Adventure'}, {'id': 878, ...   \n",
       "1   [{'id': 28, 'name': 'Action'}, {'id': 12, 'nam...   \n",
       "2   [{'id': 28, 'name': 'Action'}, {'id': 12, 'nam...   \n",
       "3   [{'id': 12, 'name': 'Adventure'}, {'id': 28, '...   \n",
       "4   [{'id': 18, 'name': 'Drama'}, {'id': 10749, 'n...   \n",
       "5   [{'id': 28, 'name': 'Action'}, {'id': 12, 'nam...   \n",
       "6   [{'id': 12, 'name': 'Adventure'}, {'id': 10751...   \n",
       "7   [{'id': 878, 'name': 'Science Fiction'}, {'id'...   \n",
       "8   [{'id': 28, 'name': 'Action'}, {'id': 53, 'nam...   \n",
       "9   [{'id': 28, 'name': 'Action'}, {'id': 12, 'nam...   \n",
       "10  [{'id': 28, 'name': 'Action'}, {'id': 12, 'nam...   \n",
       "11  [{'id': 14, 'name': 'Fantasy'}, {'id': 12, 'na...   \n",
       "12  [{'id': 14, 'name': 'Fantasy'}, {'id': 12, 'na...   \n",
       "13  [{'id': 16, 'name': 'Animation'}, {'id': 10751...   \n",
       "14  [{'id': 28, 'name': 'Action'}, {'id': 12, 'nam...   \n",
       "15  [{'id': 16, 'name': 'Animation'}, {'id': 12, '...   \n",
       "16  [{'id': 10751, 'name': 'Family'}, {'id': 14, '...   \n",
       "17  [{'id': 28, 'name': 'Action'}, {'id': 12, 'nam...   \n",
       "\n",
       "                                belongs_to_collection  runtime  \n",
       "0   {'id': 86311, 'name': 'The Avengers Collection...      181  \n",
       "1   {'id': 87096, 'name': 'Avatar Collection', 'po...      162  \n",
       "2   {'id': 10, 'name': 'Star Wars Collection', 'po...      136  \n",
       "3   {'id': 86311, 'name': 'The Avengers Collection...      149  \n",
       "4                                                None      194  \n",
       "5   {'id': 328, 'name': 'Jurassic Park Collection'...      124  \n",
       "6                                                None      118  \n",
       "7   {'id': 86311, 'name': 'The Avengers Collection...      143  \n",
       "8   {'id': 9485, 'name': 'The Fast and the Furious...      137  \n",
       "9   {'id': 86311, 'name': 'The Avengers Collection...      141  \n",
       "10  {'id': 529892, 'name': 'Black Panther Collecti...      134  \n",
       "11  {'id': 1241, 'name': 'Harry Potter Collection'...      130  \n",
       "12  {'id': 10, 'name': 'Star Wars Collection', 'po...      152  \n",
       "13  {'id': 386382, 'name': 'Frozen Collection', 'p...      104  \n",
       "14  {'id': 328, 'name': 'Jurassic Park Collection'...      129  \n",
       "15  {'id': 386382, 'name': 'Frozen Collection', 'p...      102  \n",
       "16                                               None      129  \n",
       "17  {'id': 468222, 'name': 'The Incredibles Collec...      118  "
      ]
     },
     "execution_count": 21,
     "metadata": {},
     "output_type": "execute_result"
    }
   ],
   "source": [
    "df = pd.read_json(\"blockbusters.json\", orient = \"record\")\n",
    "df"
   ]
  },
  {
   "cell_type": "code",
   "execution_count": 22,
   "metadata": {},
   "outputs": [
    {
     "name": "stdout",
     "output_type": "stream",
     "text": [
      "<class 'pandas.core.frame.DataFrame'>\n",
      "RangeIndex: 18 entries, 0 to 17\n",
      "Data columns (total 6 columns):\n",
      " #   Column                 Non-Null Count  Dtype \n",
      "---  ------                 --------------  ----- \n",
      " 0   title                  18 non-null     object\n",
      " 1   id                     18 non-null     int64 \n",
      " 2   revenue                18 non-null     int64 \n",
      " 3   genres                 18 non-null     object\n",
      " 4   belongs_to_collection  15 non-null     object\n",
      " 5   runtime                18 non-null     int64 \n",
      "dtypes: int64(3), object(3)\n",
      "memory usage: 992.0+ bytes\n"
     ]
    }
   ],
   "source": [
    "df.info()"
   ]
  },
  {
   "cell_type": "code",
   "execution_count": 13,
   "metadata": {},
   "outputs": [
    {
     "data": {
      "text/plain": [
       "[{'id': 12, 'name': 'Adventure'},\n",
       " {'id': 878, 'name': 'Science Fiction'},\n",
       " {'id': 28, 'name': 'Action'}]"
      ]
     },
     "execution_count": 13,
     "metadata": {},
     "output_type": "execute_result"
    }
   ],
   "source": [
    "df.genres[0]"
   ]
  },
  {
   "cell_type": "code",
   "execution_count": 7,
   "metadata": {},
   "outputs": [
    {
     "data": {
      "text/plain": [
       "{'id': 86311,\n",
       " 'name': 'The Avengers Collection',\n",
       " 'poster_path': '/yFSIUVTCvgYrpalUktulvk3Gi5Y.jpg',\n",
       " 'backdrop_path': '/zuW6fOiusv4X9nnW3paHGfXcSll.jpg'}"
      ]
     },
     "execution_count": 7,
     "metadata": {},
     "output_type": "execute_result"
    }
   ],
   "source": [
    "df.belongs_to_collection[0]"
   ]
  },
  {
   "cell_type": "code",
   "execution_count": 23,
   "metadata": {},
   "outputs": [
    {
     "data": {
      "text/html": [
       "<div>\n",
       "<style scoped>\n",
       "    .dataframe tbody tr th:only-of-type {\n",
       "        vertical-align: middle;\n",
       "    }\n",
       "\n",
       "    .dataframe tbody tr th {\n",
       "        vertical-align: top;\n",
       "    }\n",
       "\n",
       "    .dataframe thead th {\n",
       "        text-align: right;\n",
       "    }\n",
       "</style>\n",
       "<table border=\"1\" class=\"dataframe\">\n",
       "  <thead>\n",
       "    <tr style=\"text-align: right;\">\n",
       "      <th></th>\n",
       "      <th>title</th>\n",
       "      <th>id</th>\n",
       "      <th>revenue</th>\n",
       "      <th>genres</th>\n",
       "      <th>runtime</th>\n",
       "      <th>belongs_to_collection_id</th>\n",
       "      <th>belongs_to_collection_name</th>\n",
       "      <th>belongs_to_collection_poster_path</th>\n",
       "      <th>belongs_to_collection_backdrop_path</th>\n",
       "      <th>belongs_to_collection</th>\n",
       "    </tr>\n",
       "  </thead>\n",
       "  <tbody>\n",
       "    <tr>\n",
       "      <th>0</th>\n",
       "      <td>Avengers: Endgame</td>\n",
       "      <td>299534</td>\n",
       "      <td>2797800564</td>\n",
       "      <td>[{'id': 12, 'name': 'Adventure'}, {'id': 878, ...</td>\n",
       "      <td>181</td>\n",
       "      <td>86311.0</td>\n",
       "      <td>The Avengers Collection</td>\n",
       "      <td>/yFSIUVTCvgYrpalUktulvk3Gi5Y.jpg</td>\n",
       "      <td>/zuW6fOiusv4X9nnW3paHGfXcSll.jpg</td>\n",
       "      <td>NaN</td>\n",
       "    </tr>\n",
       "    <tr>\n",
       "      <th>1</th>\n",
       "      <td>Avatar</td>\n",
       "      <td>19995</td>\n",
       "      <td>2787965087</td>\n",
       "      <td>[{'id': 28, 'name': 'Action'}, {'id': 12, 'nam...</td>\n",
       "      <td>162</td>\n",
       "      <td>87096.0</td>\n",
       "      <td>Avatar Collection</td>\n",
       "      <td>/nslJVsO58Etqkk17oXMuVK4gNOF.jpg</td>\n",
       "      <td>/8nCr9W7sKus2q9PLbYsnT7iCkuT.jpg</td>\n",
       "      <td>NaN</td>\n",
       "    </tr>\n",
       "    <tr>\n",
       "      <th>2</th>\n",
       "      <td>Star Wars: The Force Awakens</td>\n",
       "      <td>140607</td>\n",
       "      <td>2068223624</td>\n",
       "      <td>[{'id': 28, 'name': 'Action'}, {'id': 12, 'nam...</td>\n",
       "      <td>136</td>\n",
       "      <td>10.0</td>\n",
       "      <td>Star Wars Collection</td>\n",
       "      <td>/iTQHKziZy9pAAY4hHEDCGPaOvFC.jpg</td>\n",
       "      <td>/d8duYyyC9J5T825Hg7grmaabfxQ.jpg</td>\n",
       "      <td>NaN</td>\n",
       "    </tr>\n",
       "    <tr>\n",
       "      <th>3</th>\n",
       "      <td>Avengers: Infinity War</td>\n",
       "      <td>299536</td>\n",
       "      <td>2046239637</td>\n",
       "      <td>[{'id': 12, 'name': 'Adventure'}, {'id': 28, '...</td>\n",
       "      <td>149</td>\n",
       "      <td>86311.0</td>\n",
       "      <td>The Avengers Collection</td>\n",
       "      <td>/yFSIUVTCvgYrpalUktulvk3Gi5Y.jpg</td>\n",
       "      <td>/zuW6fOiusv4X9nnW3paHGfXcSll.jpg</td>\n",
       "      <td>NaN</td>\n",
       "    </tr>\n",
       "    <tr>\n",
       "      <th>4</th>\n",
       "      <td>Titanic</td>\n",
       "      <td>597</td>\n",
       "      <td>1845034188</td>\n",
       "      <td>[{'id': 18, 'name': 'Drama'}, {'id': 10749, 'n...</td>\n",
       "      <td>194</td>\n",
       "      <td>NaN</td>\n",
       "      <td>NaN</td>\n",
       "      <td>NaN</td>\n",
       "      <td>NaN</td>\n",
       "      <td>NaN</td>\n",
       "    </tr>\n",
       "    <tr>\n",
       "      <th>5</th>\n",
       "      <td>Jurassic World</td>\n",
       "      <td>135397</td>\n",
       "      <td>1671713208</td>\n",
       "      <td>[{'id': 28, 'name': 'Action'}, {'id': 12, 'nam...</td>\n",
       "      <td>124</td>\n",
       "      <td>328.0</td>\n",
       "      <td>Jurassic Park Collection</td>\n",
       "      <td>/qIm2nHXLpBBdMxi8dvfrnDkBUDh.jpg</td>\n",
       "      <td>/pJjIH9QN0OkHFV9eue6XfRVnPkr.jpg</td>\n",
       "      <td>NaN</td>\n",
       "    </tr>\n",
       "    <tr>\n",
       "      <th>6</th>\n",
       "      <td>The Lion King</td>\n",
       "      <td>420818</td>\n",
       "      <td>1656943394</td>\n",
       "      <td>[{'id': 12, 'name': 'Adventure'}, {'id': 10751...</td>\n",
       "      <td>118</td>\n",
       "      <td>NaN</td>\n",
       "      <td>NaN</td>\n",
       "      <td>NaN</td>\n",
       "      <td>NaN</td>\n",
       "      <td>NaN</td>\n",
       "    </tr>\n",
       "    <tr>\n",
       "      <th>7</th>\n",
       "      <td>The Avengers</td>\n",
       "      <td>24428</td>\n",
       "      <td>1519557910</td>\n",
       "      <td>[{'id': 878, 'name': 'Science Fiction'}, {'id'...</td>\n",
       "      <td>143</td>\n",
       "      <td>86311.0</td>\n",
       "      <td>The Avengers Collection</td>\n",
       "      <td>/yFSIUVTCvgYrpalUktulvk3Gi5Y.jpg</td>\n",
       "      <td>/zuW6fOiusv4X9nnW3paHGfXcSll.jpg</td>\n",
       "      <td>NaN</td>\n",
       "    </tr>\n",
       "    <tr>\n",
       "      <th>8</th>\n",
       "      <td>Furious 7</td>\n",
       "      <td>168259</td>\n",
       "      <td>1506249360</td>\n",
       "      <td>[{'id': 28, 'name': 'Action'}, {'id': 53, 'nam...</td>\n",
       "      <td>137</td>\n",
       "      <td>9485.0</td>\n",
       "      <td>The Fast and the Furious Collection</td>\n",
       "      <td>/uv63yAGg1zETAs1XQsOQpava87l.jpg</td>\n",
       "      <td>/z5A5W3WYJc3UVEWljSGwdjDgQ0j.jpg</td>\n",
       "      <td>NaN</td>\n",
       "    </tr>\n",
       "    <tr>\n",
       "      <th>9</th>\n",
       "      <td>Avengers: Age of Ultron</td>\n",
       "      <td>99861</td>\n",
       "      <td>1405403694</td>\n",
       "      <td>[{'id': 28, 'name': 'Action'}, {'id': 12, 'nam...</td>\n",
       "      <td>141</td>\n",
       "      <td>86311.0</td>\n",
       "      <td>The Avengers Collection</td>\n",
       "      <td>/yFSIUVTCvgYrpalUktulvk3Gi5Y.jpg</td>\n",
       "      <td>/zuW6fOiusv4X9nnW3paHGfXcSll.jpg</td>\n",
       "      <td>NaN</td>\n",
       "    </tr>\n",
       "    <tr>\n",
       "      <th>10</th>\n",
       "      <td>Black Panther</td>\n",
       "      <td>284054</td>\n",
       "      <td>1346739107</td>\n",
       "      <td>[{'id': 28, 'name': 'Action'}, {'id': 12, 'nam...</td>\n",
       "      <td>134</td>\n",
       "      <td>529892.0</td>\n",
       "      <td>Black Panther Collection</td>\n",
       "      <td>/9ZSPIsxI3TZDgfg0Jzk0RZl4INg.jpg</td>\n",
       "      <td>/1Jj7Frjjbewb6Q6dl6YXhL3kuvL.jpg</td>\n",
       "      <td>NaN</td>\n",
       "    </tr>\n",
       "    <tr>\n",
       "      <th>11</th>\n",
       "      <td>Harry Potter and the Deathly Hallows: Part 2</td>\n",
       "      <td>12445</td>\n",
       "      <td>1341511219</td>\n",
       "      <td>[{'id': 14, 'name': 'Fantasy'}, {'id': 12, 'na...</td>\n",
       "      <td>130</td>\n",
       "      <td>1241.0</td>\n",
       "      <td>Harry Potter Collection</td>\n",
       "      <td>/eVPs2Y0LyvTLZn6AP5Z6O2rtiGB.jpg</td>\n",
       "      <td>/wfnMt6LGqYHcNyOfsuusw5lX3bL.jpg</td>\n",
       "      <td>NaN</td>\n",
       "    </tr>\n",
       "    <tr>\n",
       "      <th>12</th>\n",
       "      <td>Star Wars: The Last Jedi</td>\n",
       "      <td>181808</td>\n",
       "      <td>1332539889</td>\n",
       "      <td>[{'id': 14, 'name': 'Fantasy'}, {'id': 12, 'na...</td>\n",
       "      <td>152</td>\n",
       "      <td>10.0</td>\n",
       "      <td>Star Wars Collection</td>\n",
       "      <td>/iTQHKziZy9pAAY4hHEDCGPaOvFC.jpg</td>\n",
       "      <td>/d8duYyyC9J5T825Hg7grmaabfxQ.jpg</td>\n",
       "      <td>NaN</td>\n",
       "    </tr>\n",
       "    <tr>\n",
       "      <th>13</th>\n",
       "      <td>Frozen II</td>\n",
       "      <td>330457</td>\n",
       "      <td>1330764959</td>\n",
       "      <td>[{'id': 16, 'name': 'Animation'}, {'id': 10751...</td>\n",
       "      <td>104</td>\n",
       "      <td>386382.0</td>\n",
       "      <td>Frozen Collection</td>\n",
       "      <td>/rpoXnE9UzCbjmINhxIi8bZF557B.jpg</td>\n",
       "      <td>/vZiqhw6oFoMlHSneIdVip9rRou2.jpg</td>\n",
       "      <td>NaN</td>\n",
       "    </tr>\n",
       "    <tr>\n",
       "      <th>14</th>\n",
       "      <td>Jurassic World: Fallen Kingdom</td>\n",
       "      <td>351286</td>\n",
       "      <td>1303459585</td>\n",
       "      <td>[{'id': 28, 'name': 'Action'}, {'id': 12, 'nam...</td>\n",
       "      <td>129</td>\n",
       "      <td>328.0</td>\n",
       "      <td>Jurassic Park Collection</td>\n",
       "      <td>/qIm2nHXLpBBdMxi8dvfrnDkBUDh.jpg</td>\n",
       "      <td>/pJjIH9QN0OkHFV9eue6XfRVnPkr.jpg</td>\n",
       "      <td>NaN</td>\n",
       "    </tr>\n",
       "    <tr>\n",
       "      <th>15</th>\n",
       "      <td>Frozen</td>\n",
       "      <td>109445</td>\n",
       "      <td>1274219009</td>\n",
       "      <td>[{'id': 16, 'name': 'Animation'}, {'id': 12, '...</td>\n",
       "      <td>102</td>\n",
       "      <td>386382.0</td>\n",
       "      <td>Frozen Collection</td>\n",
       "      <td>/rpoXnE9UzCbjmINhxIi8bZF557B.jpg</td>\n",
       "      <td>/vZiqhw6oFoMlHSneIdVip9rRou2.jpg</td>\n",
       "      <td>NaN</td>\n",
       "    </tr>\n",
       "    <tr>\n",
       "      <th>16</th>\n",
       "      <td>Beauty and the Beast</td>\n",
       "      <td>321612</td>\n",
       "      <td>1263521126</td>\n",
       "      <td>[{'id': 10751, 'name': 'Family'}, {'id': 14, '...</td>\n",
       "      <td>129</td>\n",
       "      <td>NaN</td>\n",
       "      <td>NaN</td>\n",
       "      <td>NaN</td>\n",
       "      <td>NaN</td>\n",
       "      <td>NaN</td>\n",
       "    </tr>\n",
       "    <tr>\n",
       "      <th>17</th>\n",
       "      <td>Incredibles 2</td>\n",
       "      <td>260513</td>\n",
       "      <td>1241891456</td>\n",
       "      <td>[{'id': 28, 'name': 'Action'}, {'id': 12, 'nam...</td>\n",
       "      <td>118</td>\n",
       "      <td>468222.0</td>\n",
       "      <td>The Incredibles Collection</td>\n",
       "      <td>/l7GqbzkJwowYRIXAtUz2iCPi64a.jpg</td>\n",
       "      <td>/9eDW2dVhnzPS2HvaRdK2OlAGaLq.jpg</td>\n",
       "      <td>NaN</td>\n",
       "    </tr>\n",
       "  </tbody>\n",
       "</table>\n",
       "</div>"
      ],
      "text/plain": [
       "                                           title      id     revenue  \\\n",
       "0                              Avengers: Endgame  299534  2797800564   \n",
       "1                                         Avatar   19995  2787965087   \n",
       "2                   Star Wars: The Force Awakens  140607  2068223624   \n",
       "3                         Avengers: Infinity War  299536  2046239637   \n",
       "4                                        Titanic     597  1845034188   \n",
       "5                                 Jurassic World  135397  1671713208   \n",
       "6                                  The Lion King  420818  1656943394   \n",
       "7                                   The Avengers   24428  1519557910   \n",
       "8                                      Furious 7  168259  1506249360   \n",
       "9                        Avengers: Age of Ultron   99861  1405403694   \n",
       "10                                 Black Panther  284054  1346739107   \n",
       "11  Harry Potter and the Deathly Hallows: Part 2   12445  1341511219   \n",
       "12                      Star Wars: The Last Jedi  181808  1332539889   \n",
       "13                                     Frozen II  330457  1330764959   \n",
       "14                Jurassic World: Fallen Kingdom  351286  1303459585   \n",
       "15                                        Frozen  109445  1274219009   \n",
       "16                          Beauty and the Beast  321612  1263521126   \n",
       "17                                 Incredibles 2  260513  1241891456   \n",
       "\n",
       "                                               genres  runtime  \\\n",
       "0   [{'id': 12, 'name': 'Adventure'}, {'id': 878, ...      181   \n",
       "1   [{'id': 28, 'name': 'Action'}, {'id': 12, 'nam...      162   \n",
       "2   [{'id': 28, 'name': 'Action'}, {'id': 12, 'nam...      136   \n",
       "3   [{'id': 12, 'name': 'Adventure'}, {'id': 28, '...      149   \n",
       "4   [{'id': 18, 'name': 'Drama'}, {'id': 10749, 'n...      194   \n",
       "5   [{'id': 28, 'name': 'Action'}, {'id': 12, 'nam...      124   \n",
       "6   [{'id': 12, 'name': 'Adventure'}, {'id': 10751...      118   \n",
       "7   [{'id': 878, 'name': 'Science Fiction'}, {'id'...      143   \n",
       "8   [{'id': 28, 'name': 'Action'}, {'id': 53, 'nam...      137   \n",
       "9   [{'id': 28, 'name': 'Action'}, {'id': 12, 'nam...      141   \n",
       "10  [{'id': 28, 'name': 'Action'}, {'id': 12, 'nam...      134   \n",
       "11  [{'id': 14, 'name': 'Fantasy'}, {'id': 12, 'na...      130   \n",
       "12  [{'id': 14, 'name': 'Fantasy'}, {'id': 12, 'na...      152   \n",
       "13  [{'id': 16, 'name': 'Animation'}, {'id': 10751...      104   \n",
       "14  [{'id': 28, 'name': 'Action'}, {'id': 12, 'nam...      129   \n",
       "15  [{'id': 16, 'name': 'Animation'}, {'id': 12, '...      102   \n",
       "16  [{'id': 10751, 'name': 'Family'}, {'id': 14, '...      129   \n",
       "17  [{'id': 28, 'name': 'Action'}, {'id': 12, 'nam...      118   \n",
       "\n",
       "    belongs_to_collection_id           belongs_to_collection_name  \\\n",
       "0                    86311.0              The Avengers Collection   \n",
       "1                    87096.0                    Avatar Collection   \n",
       "2                       10.0                 Star Wars Collection   \n",
       "3                    86311.0              The Avengers Collection   \n",
       "4                        NaN                                  NaN   \n",
       "5                      328.0             Jurassic Park Collection   \n",
       "6                        NaN                                  NaN   \n",
       "7                    86311.0              The Avengers Collection   \n",
       "8                     9485.0  The Fast and the Furious Collection   \n",
       "9                    86311.0              The Avengers Collection   \n",
       "10                  529892.0             Black Panther Collection   \n",
       "11                    1241.0              Harry Potter Collection   \n",
       "12                      10.0                 Star Wars Collection   \n",
       "13                  386382.0                    Frozen Collection   \n",
       "14                     328.0             Jurassic Park Collection   \n",
       "15                  386382.0                    Frozen Collection   \n",
       "16                       NaN                                  NaN   \n",
       "17                  468222.0           The Incredibles Collection   \n",
       "\n",
       "   belongs_to_collection_poster_path belongs_to_collection_backdrop_path  \\\n",
       "0   /yFSIUVTCvgYrpalUktulvk3Gi5Y.jpg    /zuW6fOiusv4X9nnW3paHGfXcSll.jpg   \n",
       "1   /nslJVsO58Etqkk17oXMuVK4gNOF.jpg    /8nCr9W7sKus2q9PLbYsnT7iCkuT.jpg   \n",
       "2   /iTQHKziZy9pAAY4hHEDCGPaOvFC.jpg    /d8duYyyC9J5T825Hg7grmaabfxQ.jpg   \n",
       "3   /yFSIUVTCvgYrpalUktulvk3Gi5Y.jpg    /zuW6fOiusv4X9nnW3paHGfXcSll.jpg   \n",
       "4                                NaN                                 NaN   \n",
       "5   /qIm2nHXLpBBdMxi8dvfrnDkBUDh.jpg    /pJjIH9QN0OkHFV9eue6XfRVnPkr.jpg   \n",
       "6                                NaN                                 NaN   \n",
       "7   /yFSIUVTCvgYrpalUktulvk3Gi5Y.jpg    /zuW6fOiusv4X9nnW3paHGfXcSll.jpg   \n",
       "8   /uv63yAGg1zETAs1XQsOQpava87l.jpg    /z5A5W3WYJc3UVEWljSGwdjDgQ0j.jpg   \n",
       "9   /yFSIUVTCvgYrpalUktulvk3Gi5Y.jpg    /zuW6fOiusv4X9nnW3paHGfXcSll.jpg   \n",
       "10  /9ZSPIsxI3TZDgfg0Jzk0RZl4INg.jpg    /1Jj7Frjjbewb6Q6dl6YXhL3kuvL.jpg   \n",
       "11  /eVPs2Y0LyvTLZn6AP5Z6O2rtiGB.jpg    /wfnMt6LGqYHcNyOfsuusw5lX3bL.jpg   \n",
       "12  /iTQHKziZy9pAAY4hHEDCGPaOvFC.jpg    /d8duYyyC9J5T825Hg7grmaabfxQ.jpg   \n",
       "13  /rpoXnE9UzCbjmINhxIi8bZF557B.jpg    /vZiqhw6oFoMlHSneIdVip9rRou2.jpg   \n",
       "14  /qIm2nHXLpBBdMxi8dvfrnDkBUDh.jpg    /pJjIH9QN0OkHFV9eue6XfRVnPkr.jpg   \n",
       "15  /rpoXnE9UzCbjmINhxIi8bZF557B.jpg    /vZiqhw6oFoMlHSneIdVip9rRou2.jpg   \n",
       "16                               NaN                                 NaN   \n",
       "17  /l7GqbzkJwowYRIXAtUz2iCPi64a.jpg    /9eDW2dVhnzPS2HvaRdK2OlAGaLq.jpg   \n",
       "\n",
       "    belongs_to_collection  \n",
       "0                     NaN  \n",
       "1                     NaN  \n",
       "2                     NaN  \n",
       "3                     NaN  \n",
       "4                     NaN  \n",
       "5                     NaN  \n",
       "6                     NaN  \n",
       "7                     NaN  \n",
       "8                     NaN  \n",
       "9                     NaN  \n",
       "10                    NaN  \n",
       "11                    NaN  \n",
       "12                    NaN  \n",
       "13                    NaN  \n",
       "14                    NaN  \n",
       "15                    NaN  \n",
       "16                    NaN  \n",
       "17                    NaN  "
      ]
     },
     "execution_count": 23,
     "metadata": {},
     "output_type": "execute_result"
    }
   ],
   "source": [
    "pd.json_normalize(data = data, sep = \"_\")"
   ]
  },
  {
   "cell_type": "code",
   "execution_count": 8,
   "metadata": {},
   "outputs": [
    {
     "data": {
      "text/plain": [
       "[{'id': 12, 'name': 'Adventure'},\n",
       " {'id': 878, 'name': 'Science Fiction'},\n",
       " {'id': 28, 'name': 'Action'}]"
      ]
     },
     "execution_count": 8,
     "metadata": {},
     "output_type": "execute_result"
    }
   ],
   "source": [
    "pd.json_normalize(data = data, sep = \"_\").genres[0]"
   ]
  },
  {
   "cell_type": "code",
   "execution_count": null,
   "metadata": {
    "scrolled": true
   },
   "outputs": [],
   "source": [
    "pd.json_normalize(data = data, record_path = \"genres\", meta = [\"title\", \"id\"],\n",
    "                  record_prefix = \"genre_\")"
   ]
  },
  {
   "cell_type": "code",
   "execution_count": null,
   "metadata": {},
   "outputs": [],
   "source": []
  },
  {
   "cell_type": "markdown",
   "metadata": {},
   "source": [
    "## Working with APIs and JSON (Part 1)"
   ]
  },
  {
   "cell_type": "code",
   "execution_count": 24,
   "metadata": {},
   "outputs": [],
   "source": [
    "api_key  = \"api_key=insert_your_api_key_here!!!\""
   ]
  },
  {
   "cell_type": "code",
   "execution_count": 10,
   "metadata": {},
   "outputs": [],
   "source": [
    "#example: assume your personal api-key is \"123abc\"\n",
    "#api_key  = \"api_key=123abc\""
   ]
  },
  {
   "cell_type": "code",
   "execution_count": 25,
   "metadata": {},
   "outputs": [],
   "source": [
    "import pandas as pd\n",
    "import requests\n",
    "pd.options.display.max_columns = 30"
   ]
  },
  {
   "cell_type": "code",
   "execution_count": 26,
   "metadata": {},
   "outputs": [],
   "source": [
    "movie_id = 140607"
   ]
  },
  {
   "cell_type": "code",
   "execution_count": 27,
   "metadata": {},
   "outputs": [
    {
     "data": {
      "text/plain": [
       "'https://api.themoviedb.org/3/movie/{}?'"
      ]
     },
     "execution_count": 27,
     "metadata": {},
     "output_type": "execute_result"
    }
   ],
   "source": [
    "movie_api = \"https://api.themoviedb.org/3/movie/{}?\"\n",
    "movie_api"
   ]
  },
  {
   "cell_type": "code",
   "execution_count": 28,
   "metadata": {},
   "outputs": [
    {
     "data": {
      "text/plain": [
       "'https://api.themoviedb.org/3/movie/140607?api_key=insert_your_api_key_here!!!'"
      ]
     },
     "execution_count": 28,
     "metadata": {},
     "output_type": "execute_result"
    }
   ],
   "source": [
    "url = movie_api.format(movie_id) + api_key\n",
    "url"
   ]
  },
  {
   "cell_type": "code",
   "execution_count": 29,
   "metadata": {},
   "outputs": [
    {
     "data": {
      "text/plain": [
       "<Response [401]>"
      ]
     },
     "execution_count": 29,
     "metadata": {},
     "output_type": "execute_result"
    }
   ],
   "source": [
    "r = requests.get(url)\n",
    "r"
   ]
  },
  {
   "cell_type": "code",
   "execution_count": 30,
   "metadata": {},
   "outputs": [],
   "source": [
    "data = r.json()"
   ]
  },
  {
   "cell_type": "code",
   "execution_count": 31,
   "metadata": {},
   "outputs": [
    {
     "data": {
      "text/plain": [
       "{'status_code': 7,\n",
       " 'status_message': 'Invalid API key: You must be granted a valid key.',\n",
       " 'success': False}"
      ]
     },
     "execution_count": 31,
     "metadata": {},
     "output_type": "execute_result"
    }
   ],
   "source": [
    "data"
   ]
  },
  {
   "cell_type": "code",
   "execution_count": null,
   "metadata": {},
   "outputs": [],
   "source": [
    "type(data)"
   ]
  },
  {
   "cell_type": "code",
   "execution_count": null,
   "metadata": {
    "scrolled": true
   },
   "outputs": [],
   "source": [
    "#pd.DataFrame(data)"
   ]
  },
  {
   "cell_type": "code",
   "execution_count": 32,
   "metadata": {},
   "outputs": [
    {
     "data": {
      "text/plain": [
       "status_code                                                       7\n",
       "status_message    Invalid API key: You must be granted a valid key.\n",
       "success                                                       False\n",
       "dtype: object"
      ]
     },
     "execution_count": 32,
     "metadata": {},
     "output_type": "execute_result"
    }
   ],
   "source": [
    "pd.Series(data)"
   ]
  },
  {
   "cell_type": "code",
   "execution_count": 33,
   "metadata": {},
   "outputs": [
    {
     "data": {
      "text/html": [
       "<div>\n",
       "<style scoped>\n",
       "    .dataframe tbody tr th:only-of-type {\n",
       "        vertical-align: middle;\n",
       "    }\n",
       "\n",
       "    .dataframe tbody tr th {\n",
       "        vertical-align: top;\n",
       "    }\n",
       "\n",
       "    .dataframe thead th {\n",
       "        text-align: right;\n",
       "    }\n",
       "</style>\n",
       "<table border=\"1\" class=\"dataframe\">\n",
       "  <thead>\n",
       "    <tr style=\"text-align: right;\">\n",
       "      <th></th>\n",
       "      <th>status_code</th>\n",
       "      <th>status_message</th>\n",
       "      <th>success</th>\n",
       "    </tr>\n",
       "  </thead>\n",
       "  <tbody>\n",
       "    <tr>\n",
       "      <th>0</th>\n",
       "      <td>7</td>\n",
       "      <td>Invalid API key: You must be granted a valid key.</td>\n",
       "      <td>False</td>\n",
       "    </tr>\n",
       "  </tbody>\n",
       "</table>\n",
       "</div>"
      ],
      "text/plain": [
       "  status_code                                     status_message success\n",
       "0           7  Invalid API key: You must be granted a valid key.   False"
      ]
     },
     "execution_count": 33,
     "metadata": {},
     "output_type": "execute_result"
    }
   ],
   "source": [
    "df = pd.Series(data).to_frame().T\n",
    "df"
   ]
  },
  {
   "cell_type": "code",
   "execution_count": 34,
   "metadata": {},
   "outputs": [
    {
     "data": {
      "text/html": [
       "<div>\n",
       "<style scoped>\n",
       "    .dataframe tbody tr th:only-of-type {\n",
       "        vertical-align: middle;\n",
       "    }\n",
       "\n",
       "    .dataframe tbody tr th {\n",
       "        vertical-align: top;\n",
       "    }\n",
       "\n",
       "    .dataframe thead th {\n",
       "        text-align: right;\n",
       "    }\n",
       "</style>\n",
       "<table border=\"1\" class=\"dataframe\">\n",
       "  <thead>\n",
       "    <tr style=\"text-align: right;\">\n",
       "      <th></th>\n",
       "      <th>status_code</th>\n",
       "      <th>status_message</th>\n",
       "      <th>success</th>\n",
       "    </tr>\n",
       "  </thead>\n",
       "  <tbody>\n",
       "    <tr>\n",
       "      <th>0</th>\n",
       "      <td>7</td>\n",
       "      <td>Invalid API key: You must be granted a valid key.</td>\n",
       "      <td>False</td>\n",
       "    </tr>\n",
       "  </tbody>\n",
       "</table>\n",
       "</div>"
      ],
      "text/plain": [
       "   status_code                                     status_message  success\n",
       "0            7  Invalid API key: You must be granted a valid key.    False"
      ]
     },
     "execution_count": 34,
     "metadata": {},
     "output_type": "execute_result"
    }
   ],
   "source": [
    "pd.json_normalize(data, sep = \"_\")"
   ]
  },
  {
   "cell_type": "code",
   "execution_count": 35,
   "metadata": {},
   "outputs": [
    {
     "ename": "KeyError",
     "evalue": "'genres'",
     "output_type": "error",
     "traceback": [
      "\u001b[1;31m---------------------------------------------------------------------------\u001b[0m",
      "\u001b[1;31mKeyError\u001b[0m                                  Traceback (most recent call last)",
      "\u001b[1;32mC:\\Users\\MOHAMM~1\\AppData\\Local\\Temp/ipykernel_26748/3640382794.py\u001b[0m in \u001b[0;36m<module>\u001b[1;34m\u001b[0m\n\u001b[1;32m----> 1\u001b[1;33m \u001b[0mpd\u001b[0m\u001b[1;33m.\u001b[0m\u001b[0mjson_normalize\u001b[0m\u001b[1;33m(\u001b[0m\u001b[0mdata\u001b[0m \u001b[1;33m=\u001b[0m \u001b[0mdata\u001b[0m\u001b[1;33m,\u001b[0m \u001b[0mrecord_path\u001b[0m \u001b[1;33m=\u001b[0m \u001b[1;34m\"genres\"\u001b[0m\u001b[1;33m,\u001b[0m \u001b[0mmeta\u001b[0m \u001b[1;33m=\u001b[0m \u001b[1;34m\"title\"\u001b[0m\u001b[1;33m)\u001b[0m\u001b[1;33m\u001b[0m\u001b[1;33m\u001b[0m\u001b[0m\n\u001b[0m",
      "\u001b[1;32m~\\anaconda3\\lib\\site-packages\\pandas\\io\\json\\_normalize.py\u001b[0m in \u001b[0;36m_json_normalize\u001b[1;34m(data, record_path, meta, meta_prefix, record_prefix, errors, sep, max_level)\u001b[0m\n\u001b[0;32m    502\u001b[0m                 \u001b[0mrecords\u001b[0m\u001b[1;33m.\u001b[0m\u001b[0mextend\u001b[0m\u001b[1;33m(\u001b[0m\u001b[0mrecs\u001b[0m\u001b[1;33m)\u001b[0m\u001b[1;33m\u001b[0m\u001b[1;33m\u001b[0m\u001b[0m\n\u001b[0;32m    503\u001b[0m \u001b[1;33m\u001b[0m\u001b[0m\n\u001b[1;32m--> 504\u001b[1;33m     \u001b[0m_recursive_extract\u001b[0m\u001b[1;33m(\u001b[0m\u001b[0mdata\u001b[0m\u001b[1;33m,\u001b[0m \u001b[0mrecord_path\u001b[0m\u001b[1;33m,\u001b[0m \u001b[1;33m{\u001b[0m\u001b[1;33m}\u001b[0m\u001b[1;33m,\u001b[0m \u001b[0mlevel\u001b[0m\u001b[1;33m=\u001b[0m\u001b[1;36m0\u001b[0m\u001b[1;33m)\u001b[0m\u001b[1;33m\u001b[0m\u001b[1;33m\u001b[0m\u001b[0m\n\u001b[0m\u001b[0;32m    505\u001b[0m \u001b[1;33m\u001b[0m\u001b[0m\n\u001b[0;32m    506\u001b[0m     \u001b[0mresult\u001b[0m \u001b[1;33m=\u001b[0m \u001b[0mDataFrame\u001b[0m\u001b[1;33m(\u001b[0m\u001b[0mrecords\u001b[0m\u001b[1;33m)\u001b[0m\u001b[1;33m\u001b[0m\u001b[1;33m\u001b[0m\u001b[0m\n",
      "\u001b[1;32m~\\anaconda3\\lib\\site-packages\\pandas\\io\\json\\_normalize.py\u001b[0m in \u001b[0;36m_recursive_extract\u001b[1;34m(data, path, seen_meta, level)\u001b[0m\n\u001b[0;32m    475\u001b[0m         \u001b[1;32melse\u001b[0m\u001b[1;33m:\u001b[0m\u001b[1;33m\u001b[0m\u001b[1;33m\u001b[0m\u001b[0m\n\u001b[0;32m    476\u001b[0m             \u001b[1;32mfor\u001b[0m \u001b[0mobj\u001b[0m \u001b[1;32min\u001b[0m \u001b[0mdata\u001b[0m\u001b[1;33m:\u001b[0m\u001b[1;33m\u001b[0m\u001b[1;33m\u001b[0m\u001b[0m\n\u001b[1;32m--> 477\u001b[1;33m                 \u001b[0mrecs\u001b[0m \u001b[1;33m=\u001b[0m \u001b[0m_pull_records\u001b[0m\u001b[1;33m(\u001b[0m\u001b[0mobj\u001b[0m\u001b[1;33m,\u001b[0m \u001b[0mpath\u001b[0m\u001b[1;33m[\u001b[0m\u001b[1;36m0\u001b[0m\u001b[1;33m]\u001b[0m\u001b[1;33m)\u001b[0m\u001b[1;33m\u001b[0m\u001b[1;33m\u001b[0m\u001b[0m\n\u001b[0m\u001b[0;32m    478\u001b[0m                 recs = [\n\u001b[0;32m    479\u001b[0m                     \u001b[0mnested_to_record\u001b[0m\u001b[1;33m(\u001b[0m\u001b[0mr\u001b[0m\u001b[1;33m,\u001b[0m \u001b[0msep\u001b[0m\u001b[1;33m=\u001b[0m\u001b[0msep\u001b[0m\u001b[1;33m,\u001b[0m \u001b[0mmax_level\u001b[0m\u001b[1;33m=\u001b[0m\u001b[0mmax_level\u001b[0m\u001b[1;33m)\u001b[0m\u001b[1;33m\u001b[0m\u001b[1;33m\u001b[0m\u001b[0m\n",
      "\u001b[1;32m~\\anaconda3\\lib\\site-packages\\pandas\\io\\json\\_normalize.py\u001b[0m in \u001b[0;36m_pull_records\u001b[1;34m(js, spec)\u001b[0m\n\u001b[0;32m    397\u001b[0m         \u001b[1;32mif\u001b[0m \u001b[0mhas\u001b[0m \u001b[0mnon\u001b[0m \u001b[0miterable\u001b[0m \u001b[0mvalue\u001b[0m\u001b[1;33m.\u001b[0m\u001b[1;33m\u001b[0m\u001b[1;33m\u001b[0m\u001b[0m\n\u001b[0;32m    398\u001b[0m         \"\"\"\n\u001b[1;32m--> 399\u001b[1;33m         \u001b[0mresult\u001b[0m \u001b[1;33m=\u001b[0m \u001b[0m_pull_field\u001b[0m\u001b[1;33m(\u001b[0m\u001b[0mjs\u001b[0m\u001b[1;33m,\u001b[0m \u001b[0mspec\u001b[0m\u001b[1;33m)\u001b[0m\u001b[1;33m\u001b[0m\u001b[1;33m\u001b[0m\u001b[0m\n\u001b[0m\u001b[0;32m    400\u001b[0m \u001b[1;33m\u001b[0m\u001b[0m\n\u001b[0;32m    401\u001b[0m         \u001b[1;31m# GH 31507 GH 30145, GH 26284 if result is not list, raise TypeError if not\u001b[0m\u001b[1;33m\u001b[0m\u001b[1;33m\u001b[0m\u001b[0m\n",
      "\u001b[1;32m~\\anaconda3\\lib\\site-packages\\pandas\\io\\json\\_normalize.py\u001b[0m in \u001b[0;36m_pull_field\u001b[1;34m(js, spec)\u001b[0m\n\u001b[0;32m    388\u001b[0m                 \u001b[0mresult\u001b[0m \u001b[1;33m=\u001b[0m \u001b[0mresult\u001b[0m\u001b[1;33m[\u001b[0m\u001b[0mfield\u001b[0m\u001b[1;33m]\u001b[0m\u001b[1;33m\u001b[0m\u001b[1;33m\u001b[0m\u001b[0m\n\u001b[0;32m    389\u001b[0m         \u001b[1;32melse\u001b[0m\u001b[1;33m:\u001b[0m\u001b[1;33m\u001b[0m\u001b[1;33m\u001b[0m\u001b[0m\n\u001b[1;32m--> 390\u001b[1;33m             \u001b[0mresult\u001b[0m \u001b[1;33m=\u001b[0m \u001b[0mresult\u001b[0m\u001b[1;33m[\u001b[0m\u001b[0mspec\u001b[0m\u001b[1;33m]\u001b[0m\u001b[1;33m\u001b[0m\u001b[1;33m\u001b[0m\u001b[0m\n\u001b[0m\u001b[0;32m    391\u001b[0m         \u001b[1;32mreturn\u001b[0m \u001b[0mresult\u001b[0m\u001b[1;33m\u001b[0m\u001b[1;33m\u001b[0m\u001b[0m\n\u001b[0;32m    392\u001b[0m \u001b[1;33m\u001b[0m\u001b[0m\n",
      "\u001b[1;31mKeyError\u001b[0m: 'genres'"
     ]
    }
   ],
   "source": [
    "pd.json_normalize(data = data, record_path = \"genres\", meta = \"title\")"
   ]
  },
  {
   "cell_type": "code",
   "execution_count": null,
   "metadata": {},
   "outputs": [],
   "source": [
    "pd.json_normalize(data = data, record_path = \"production_companies\", meta = \"title\")"
   ]
  },
  {
   "cell_type": "code",
   "execution_count": null,
   "metadata": {},
   "outputs": [],
   "source": []
  },
  {
   "cell_type": "markdown",
   "metadata": {},
   "source": [
    "## Working with APIs and JSON (Part 2)"
   ]
  },
  {
   "cell_type": "code",
   "execution_count": null,
   "metadata": {},
   "outputs": [],
   "source": [
    "import pandas as pd\n",
    "import requests\n",
    "pd.options.display.max_columns = 30"
   ]
  },
  {
   "cell_type": "code",
   "execution_count": null,
   "metadata": {},
   "outputs": [],
   "source": [
    "discover_api = \"https://api.themoviedb.org/3/discover/movie?\""
   ]
  },
  {
   "cell_type": "code",
   "execution_count": null,
   "metadata": {},
   "outputs": [],
   "source": [
    "query = \"&primary_release_date.gte=2020-01-01&primary_release_date.lte=2020-02-29\""
   ]
  },
  {
   "cell_type": "code",
   "execution_count": null,
   "metadata": {},
   "outputs": [],
   "source": [
    "url = discover_api+api_key+query"
   ]
  },
  {
   "cell_type": "code",
   "execution_count": null,
   "metadata": {},
   "outputs": [],
   "source": [
    "data = requests.get(url).json()"
   ]
  },
  {
   "cell_type": "code",
   "execution_count": null,
   "metadata": {},
   "outputs": [],
   "source": [
    "data"
   ]
  },
  {
   "cell_type": "code",
   "execution_count": null,
   "metadata": {},
   "outputs": [],
   "source": [
    "pd.DataFrame(data)"
   ]
  },
  {
   "cell_type": "code",
   "execution_count": null,
   "metadata": {
    "scrolled": false
   },
   "outputs": [],
   "source": [
    "pd.DataFrame(data[\"results\"])"
   ]
  },
  {
   "cell_type": "code",
   "execution_count": null,
   "metadata": {},
   "outputs": [],
   "source": []
  },
  {
   "cell_type": "markdown",
   "metadata": {},
   "source": [
    "##  Importing and Saving the Movies Dataset (Best Practice)"
   ]
  },
  {
   "cell_type": "code",
   "execution_count": 36,
   "metadata": {},
   "outputs": [],
   "source": [
    "import pandas as pd\n",
    "import requests\n",
    "import json\n",
    "pd.options.display.max_columns = 30"
   ]
  },
  {
   "cell_type": "code",
   "execution_count": 37,
   "metadata": {},
   "outputs": [],
   "source": [
    "movie_id = [0, 299534, 19995, 140607, 299536, 597, 135397,\n",
    "            420818, 24428, 168259, 99861, 284054, 12445,\n",
    "            181808, 330457, 351286, 109445, 321612, 260513]"
   ]
  },
  {
   "cell_type": "code",
   "execution_count": 38,
   "metadata": {},
   "outputs": [],
   "source": [
    "basic_url = 'https://api.themoviedb.org/3/movie/{}?{}' "
   ]
  },
  {
   "cell_type": "code",
   "execution_count": 39,
   "metadata": {},
   "outputs": [],
   "source": [
    "json_list = []\n",
    "for movie in movie_id:\n",
    "    url = basic_url.format(movie, api_key)\n",
    "    r = requests.get(url)\n",
    "    if r.status_code != 200:\n",
    "        continue\n",
    "    else:\n",
    "        data = r.json()\n",
    "        json_list.append(data) \n",
    "df = pd.DataFrame(json_list)"
   ]
  },
  {
   "cell_type": "code",
   "execution_count": null,
   "metadata": {},
   "outputs": [],
   "source": [
    "requests.get(basic_url.format(0, api_key)).status_code"
   ]
  },
  {
   "cell_type": "code",
   "execution_count": null,
   "metadata": {},
   "outputs": [],
   "source": [
    "df"
   ]
  },
  {
   "cell_type": "code",
   "execution_count": null,
   "metadata": {},
   "outputs": [],
   "source": [
    "df = df.loc[:, [\"title\", \"id\", \"revenue\", \"genres\", \"belongs_to_collection\", \"runtime\"]].sort_values(by = \"revenue\",\n",
    "                                                                                                ascending = False)"
   ]
  },
  {
   "cell_type": "code",
   "execution_count": null,
   "metadata": {},
   "outputs": [],
   "source": [
    "df"
   ]
  },
  {
   "cell_type": "code",
   "execution_count": null,
   "metadata": {},
   "outputs": [],
   "source": [
    "df.to_json(\"movies.json\", orient = \"records\")"
   ]
  },
  {
   "cell_type": "code",
   "execution_count": null,
   "metadata": {},
   "outputs": [],
   "source": [
    "with open(\"movies.json\") as f:\n",
    "    data = json.load(f)"
   ]
  },
  {
   "cell_type": "code",
   "execution_count": null,
   "metadata": {},
   "outputs": [],
   "source": [
    "pd.json_normalize(data)"
   ]
  },
  {
   "cell_type": "code",
   "execution_count": null,
   "metadata": {},
   "outputs": [],
   "source": [
    "pd.json_normalize(data, \"genres\", \"title\")"
   ]
  },
  {
   "cell_type": "code",
   "execution_count": null,
   "metadata": {},
   "outputs": [],
   "source": []
  },
  {
   "cell_type": "markdown",
   "metadata": {},
   "source": [
    "# Importing and Saving the Movies Dataset (Real World Scenario)"
   ]
  },
  {
   "cell_type": "code",
   "execution_count": null,
   "metadata": {},
   "outputs": [],
   "source": [
    "df"
   ]
  },
  {
   "cell_type": "code",
   "execution_count": null,
   "metadata": {},
   "outputs": [],
   "source": [
    "df.to_csv(\"movies_raw.csv\", index = False)"
   ]
  },
  {
   "cell_type": "code",
   "execution_count": null,
   "metadata": {},
   "outputs": [],
   "source": [
    "df = pd.read_csv(\"movies_raw.csv\")"
   ]
  },
  {
   "cell_type": "code",
   "execution_count": null,
   "metadata": {},
   "outputs": [],
   "source": [
    "df"
   ]
  },
  {
   "cell_type": "code",
   "execution_count": null,
   "metadata": {},
   "outputs": [],
   "source": [
    "df.genres[0]"
   ]
  },
  {
   "cell_type": "code",
   "execution_count": null,
   "metadata": {},
   "outputs": [],
   "source": []
  }
 ],
 "metadata": {
  "kernelspec": {
   "display_name": "Python 3 (ipykernel)",
   "language": "python",
   "name": "python3"
  },
  "language_info": {
   "codemirror_mode": {
    "name": "ipython",
    "version": 3
   },
   "file_extension": ".py",
   "mimetype": "text/x-python",
   "name": "python",
   "nbconvert_exporter": "python",
   "pygments_lexer": "ipython3",
   "version": "3.9.7"
  }
 },
 "nbformat": 4,
 "nbformat_minor": 4
}
